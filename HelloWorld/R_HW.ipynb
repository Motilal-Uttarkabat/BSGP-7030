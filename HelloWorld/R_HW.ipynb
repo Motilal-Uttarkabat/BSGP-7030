{
 "cells": [
  {
   "cell_type": "markdown",
   "id": "mathematical-constitution",
   "metadata": {},
   "source": [
    "# R script for printing \"Hello World\""
   ]
  },
  {
   "cell_type": "code",
   "execution_count": 1,
   "id": "aerial-tradition",
   "metadata": {},
   "outputs": [
    {
     "name": "stdout",
     "output_type": "stream",
     "text": [
      "[1] Hello World\n"
     ]
    }
   ],
   "source": [
    "print(\"Hello World\", quote=FALSE)    # Printing Hello World without quotes"
   ]
  },
  {
   "cell_type": "code",
   "execution_count": null,
   "id": "efficient-debut",
   "metadata": {},
   "outputs": [],
   "source": []
  }
 ],
 "metadata": {
  "kernelspec": {
   "display_name": "R",
   "language": "R",
   "name": "ir"
  },
  "language_info": {
   "codemirror_mode": "r",
   "file_extension": ".r",
   "mimetype": "text/x-r-source",
   "name": "R",
   "pygments_lexer": "r",
   "version": "3.5.3"
  }
 },
 "nbformat": 4,
 "nbformat_minor": 5
}
