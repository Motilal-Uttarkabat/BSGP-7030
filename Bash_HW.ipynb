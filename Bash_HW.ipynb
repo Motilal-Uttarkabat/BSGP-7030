{
 "cells": [
  {
   "cell_type": "markdown",
   "id": "strong-camping",
   "metadata": {},
   "source": [
    "# Bash script for printing \"Hello World\" (from python)"
   ]
  },
  {
   "cell_type": "code",
   "execution_count": 1,
   "id": "essential-cleaners",
   "metadata": {},
   "outputs": [
    {
     "name": "stdout",
     "output_type": "stream",
     "text": [
      "Hello World\r\n"
     ]
    }
   ],
   "source": [
    "!echo \"Hello World\"          #The ! is used for executing shell commands i.e., Bash"
   ]
  },
  {
   "cell_type": "code",
   "execution_count": null,
   "id": "standard-spencer",
   "metadata": {},
   "outputs": [],
   "source": []
  }
 ],
 "metadata": {
  "kernelspec": {
   "display_name": "Python 3",
   "language": "python",
   "name": "python3"
  },
  "language_info": {
   "codemirror_mode": {
    "name": "ipython",
    "version": 3
   },
   "file_extension": ".py",
   "mimetype": "text/x-python",
   "name": "python",
   "nbconvert_exporter": "python",
   "pygments_lexer": "ipython3",
   "version": "3.7.7"
  }
 },
 "nbformat": 4,
 "nbformat_minor": 5
}
